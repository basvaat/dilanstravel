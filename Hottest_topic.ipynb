{
 "cells": [
  {
   "cell_type": "code",
   "execution_count": 1,
   "metadata": {},
   "outputs": [],
   "source": [
    "import csv\n",
    "import pandas as pd\n",
    "import datetime"
   ]
  },
  {
   "cell_type": "code",
   "execution_count": 2,
   "metadata": {},
   "outputs": [],
   "source": [
    "readers = pd.DataFrame([], columns = ['date', 'action', 'country', 'user_id', 'source', 'topic']) \n",
    "returning_readers = pd.DataFrame([], columns = ['date', 'action', 'country', 'user_id', 'topic']) \n",
    "\n",
    "purchases = pd.DataFrame([], columns = ['date', 'action', 'user_id', 'spent']) \n",
    "subscribes = pd.DataFrame([], columns = ['date', 'action', 'user_id']) "
   ]
  },
  {
   "cell_type": "code",
   "execution_count": 3,
   "metadata": {},
   "outputs": [],
   "source": [
    "with open(\"dilans_data.csv\") as input_file:\n",
    "    readerCSV = csv.reader(input_file)\n",
    "\n",
    "    readers_list = []\n",
    "    returning_list = []\n",
    "    purchases_list = []\n",
    "    subscribes_list = []\n",
    "    for row in enumerate(readerCSV):\n",
    "        action =row[1][0].split(';')[1]\n",
    "        r = row[1][0].split(';')\n",
    "        if action == 'read':\n",
    "            if len(r) == 6:\n",
    "                readers_list.append(r)\n",
    "            else:\n",
    "                returning_list.append(r)\n",
    "        if action == 'subscribe':\n",
    "            subscribes_list.append(r)\n",
    "        if action == 'buy':\n",
    "            purchases_list.append(r)\n",
    "        \n",
    "    readers=pd.DataFrame(readers_list,columns=['date', 'action', 'country', 'user_id', 'source', 'topic'])\n",
    "    returning_readers=pd.DataFrame(returning_list,columns=['date', 'action', 'country', 'user_id', 'topic'])\n",
    "    purchases=pd.DataFrame(purchases_list,columns=['date', 'action', 'user_id', 'spent'])\n",
    "    subscribes=pd.DataFrame(subscribes_list,columns=['date', 'action', 'user_id'])"
   ]
  },
  {
   "cell_type": "code",
   "execution_count": 4,
   "metadata": {},
   "outputs": [],
   "source": [
    "readers_topic = readers[['country', 'action', 'user_id', 'topic']]\n",
    "returning_readers.loc[returning_readers['action'] == 'read', 'action'] = 'return'\n",
    "returning_topic = returning_readers[['country', 'action', 'user_id', 'topic']]\n",
    "all_readers = readers_topic.append(returning_topic)"
   ]
  },
  {
   "cell_type": "code",
   "execution_count": 5,
   "metadata": {},
   "outputs": [
    {
     "data": {
      "text/plain": [
       "topic\n",
       "Africa            43394\n",
       "Asia             194925\n",
       "Australia         42726\n",
       "Europe            93697\n",
       "North America    130334\n",
       "South America     76801\n",
       "Name: action, dtype: int64"
      ]
     },
     "execution_count": 5,
     "metadata": {},
     "output_type": "execute_result"
    }
   ],
   "source": [
    "all_readers.groupby('topic').agg('count').action"
   ]
  }
 ],
 "metadata": {
  "kernelspec": {
   "display_name": "Python 3",
   "language": "python",
   "name": "python3"
  },
  "language_info": {
   "codemirror_mode": {
    "name": "ipython",
    "version": 3
   },
   "file_extension": ".py",
   "mimetype": "text/x-python",
   "name": "python",
   "nbconvert_exporter": "python",
   "pygments_lexer": "ipython3",
   "version": "3.6.8"
  }
 },
 "nbformat": 4,
 "nbformat_minor": 2
}
