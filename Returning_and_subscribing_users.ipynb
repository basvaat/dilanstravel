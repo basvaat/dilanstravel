{
 "cells": [
  {
   "cell_type": "code",
   "execution_count": 1,
   "metadata": {},
   "outputs": [],
   "source": [
    "import csv\n",
    "import pandas as pd\n",
    "import datetime"
   ]
  },
  {
   "cell_type": "code",
   "execution_count": 2,
   "metadata": {},
   "outputs": [],
   "source": [
    "readers = pd.DataFrame([], columns = ['date', 'action', 'country', 'user_id', 'source', 'topic']) \n",
    "returning_readers = pd.DataFrame([], columns = ['date', 'action', 'country', 'user_id', 'topic']) \n",
    "\n",
    "purchases = pd.DataFrame([], columns = ['date', 'action', 'user_id', 'spent']) \n",
    "subscribes = pd.DataFrame([], columns = ['date', 'action', 'user_id']) "
   ]
  },
  {
   "cell_type": "code",
   "execution_count": 3,
   "metadata": {},
   "outputs": [],
   "source": [
    "with open(\"dilans_data.csv\") as input_file:\n",
    "    readerCSV = csv.reader(input_file)\n",
    "\n",
    "    readers_list = []\n",
    "    returning_list = []\n",
    "    purchases_list = []\n",
    "    subscribes_list = []\n",
    "    for row in enumerate(readerCSV):\n",
    "        action =row[1][0].split(';')[1]\n",
    "        r = row[1][0].split(';')\n",
    "        if action == 'read':\n",
    "            if len(r) == 6:\n",
    "                readers_list.append(r)\n",
    "            else:\n",
    "                returning_list.append(r)\n",
    "        if action == 'subscribe':\n",
    "            subscribes_list.append(r)\n",
    "        if action == 'buy':\n",
    "            purchases_list.append(r)\n",
    "        \n",
    "    readers=pd.DataFrame(readers_list,columns=['date', 'action', 'country', 'user_id', 'source', 'topic'])\n",
    "    returning_readers=pd.DataFrame(returning_list,columns=['date', 'action', 'country', 'user_id', 'topic'])\n",
    "    purchases=pd.DataFrame(purchases_list,columns=['date', 'action', 'user_id', 'spent'])\n",
    "    subscribes=pd.DataFrame(subscribes_list,columns=['date', 'action', 'user_id'])"
   ]
  },
  {
   "cell_type": "markdown",
   "metadata": {},
   "source": [
    "### Number of retruning users per country"
   ]
  },
  {
   "cell_type": "code",
   "execution_count": 4,
   "metadata": {},
   "outputs": [],
   "source": [
    "returning_readers.loc[returning_readers['action'] == 'read', 'action'] = 'return'"
   ]
  },
  {
   "cell_type": "code",
   "execution_count": 6,
   "metadata": {},
   "outputs": [],
   "source": [
    "no_of_actions = returning_readers.groupby('user_id').agg({'action': 'count', 'country': 'first'})"
   ]
  },
  {
   "cell_type": "code",
   "execution_count": 7,
   "metadata": {},
   "outputs": [
    {
     "data": {
      "text/html": [
       "<div>\n",
       "<style scoped>\n",
       "    .dataframe tbody tr th:only-of-type {\n",
       "        vertical-align: middle;\n",
       "    }\n",
       "\n",
       "    .dataframe tbody tr th {\n",
       "        vertical-align: top;\n",
       "    }\n",
       "\n",
       "    .dataframe thead th {\n",
       "        text-align: right;\n",
       "    }\n",
       "</style>\n",
       "<table border=\"1\" class=\"dataframe\">\n",
       "  <thead>\n",
       "    <tr style=\"text-align: right;\">\n",
       "      <th></th>\n",
       "      <th>action</th>\n",
       "    </tr>\n",
       "    <tr>\n",
       "      <th>country</th>\n",
       "      <th></th>\n",
       "    </tr>\n",
       "  </thead>\n",
       "  <tbody>\n",
       "    <tr>\n",
       "      <th>country_1</th>\n",
       "      <td>1155</td>\n",
       "    </tr>\n",
       "    <tr>\n",
       "      <th>country_2</th>\n",
       "      <td>79401</td>\n",
       "    </tr>\n",
       "    <tr>\n",
       "      <th>country_3</th>\n",
       "      <td>6386</td>\n",
       "    </tr>\n",
       "    <tr>\n",
       "      <th>country_4</th>\n",
       "      <td>58507</td>\n",
       "    </tr>\n",
       "    <tr>\n",
       "      <th>country_5</th>\n",
       "      <td>109383</td>\n",
       "    </tr>\n",
       "    <tr>\n",
       "      <th>country_6</th>\n",
       "      <td>32596</td>\n",
       "    </tr>\n",
       "    <tr>\n",
       "      <th>country_7</th>\n",
       "      <td>80276</td>\n",
       "    </tr>\n",
       "    <tr>\n",
       "      <th>country_8</th>\n",
       "      <td>4150</td>\n",
       "    </tr>\n",
       "  </tbody>\n",
       "</table>\n",
       "</div>"
      ],
      "text/plain": [
       "           action\n",
       "country          \n",
       "country_1    1155\n",
       "country_2   79401\n",
       "country_3    6386\n",
       "country_4   58507\n",
       "country_5  109383\n",
       "country_6   32596\n",
       "country_7   80276\n",
       "country_8    4150"
      ]
     },
     "execution_count": 7,
     "metadata": {},
     "output_type": "execute_result"
    }
   ],
   "source": [
    "no_of_actions.groupby('country').agg('sum')"
   ]
  },
  {
   "cell_type": "markdown",
   "metadata": {},
   "source": [
    "### Number of subscribing users per country"
   ]
  },
  {
   "cell_type": "code",
   "execution_count": 9,
   "metadata": {},
   "outputs": [],
   "source": [
    "subs_userscountry = subscribes.set_index('user_id').join(readers.set_index('user_id'), how='left', lsuffix='_subs', rsuffix= '_readers')"
   ]
  },
  {
   "cell_type": "code",
   "execution_count": 21,
   "metadata": {},
   "outputs": [
    {
     "data": {
      "text/html": [
       "<div>\n",
       "<style scoped>\n",
       "    .dataframe tbody tr th:only-of-type {\n",
       "        vertical-align: middle;\n",
       "    }\n",
       "\n",
       "    .dataframe tbody tr th {\n",
       "        vertical-align: top;\n",
       "    }\n",
       "\n",
       "    .dataframe thead th {\n",
       "        text-align: right;\n",
       "    }\n",
       "</style>\n",
       "<table border=\"1\" class=\"dataframe\">\n",
       "  <thead>\n",
       "    <tr style=\"text-align: right;\">\n",
       "      <th></th>\n",
       "      <th>action_subs</th>\n",
       "    </tr>\n",
       "    <tr>\n",
       "      <th>country</th>\n",
       "      <th></th>\n",
       "    </tr>\n",
       "  </thead>\n",
       "  <tbody>\n",
       "    <tr>\n",
       "      <th>country_1</th>\n",
       "      <td>28</td>\n",
       "    </tr>\n",
       "    <tr>\n",
       "      <th>country_2</th>\n",
       "      <td>1558</td>\n",
       "    </tr>\n",
       "    <tr>\n",
       "      <th>country_3</th>\n",
       "      <td>160</td>\n",
       "    </tr>\n",
       "    <tr>\n",
       "      <th>country_4</th>\n",
       "      <td>1419</td>\n",
       "    </tr>\n",
       "    <tr>\n",
       "      <th>country_5</th>\n",
       "      <td>2334</td>\n",
       "    </tr>\n",
       "    <tr>\n",
       "      <th>country_6</th>\n",
       "      <td>546</td>\n",
       "    </tr>\n",
       "    <tr>\n",
       "      <th>country_7</th>\n",
       "      <td>1470</td>\n",
       "    </tr>\n",
       "    <tr>\n",
       "      <th>country_8</th>\n",
       "      <td>103</td>\n",
       "    </tr>\n",
       "  </tbody>\n",
       "</table>\n",
       "</div>"
      ],
      "text/plain": [
       "           action_subs\n",
       "country               \n",
       "country_1           28\n",
       "country_2         1558\n",
       "country_3          160\n",
       "country_4         1419\n",
       "country_5         2334\n",
       "country_6          546\n",
       "country_7         1470\n",
       "country_8          103"
      ]
     },
     "execution_count": 21,
     "metadata": {},
     "output_type": "execute_result"
    }
   ],
   "source": [
    "subs_userscountry.groupby('country').agg({'action_subs': 'count'})"
   ]
  },
  {
   "cell_type": "code",
   "execution_count": null,
   "metadata": {},
   "outputs": [],
   "source": []
  }
 ],
 "metadata": {
  "kernelspec": {
   "display_name": "Python 3",
   "language": "python",
   "name": "python3"
  },
  "language_info": {
   "codemirror_mode": {
    "name": "ipython",
    "version": 3
   },
   "file_extension": ".py",
   "mimetype": "text/x-python",
   "name": "python",
   "nbconvert_exporter": "python",
   "pygments_lexer": "ipython3",
   "version": "3.6.8"
  }
 },
 "nbformat": 4,
 "nbformat_minor": 2
}
